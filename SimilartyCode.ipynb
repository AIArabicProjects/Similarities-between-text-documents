{
  "nbformat": 4,
  "nbformat_minor": 0,
  "metadata": {
    "colab": {
      "name": "Copy of CosineSimilartyCode.ipynb",
      "provenance": [],
      "collapsed_sections": []
    },
    "kernelspec": {
      "name": "python3",
      "display_name": "Python 3"
    },
    "language_info": {
      "name": "python"
    }
  },
  "cells": [
    {
      "cell_type": "markdown",
      "metadata": {
        "id": "7-Qu6foZlCB_"
      },
      "source": [
        "**cosine-similarity**"
      ]
    },
    {
      "cell_type": "code",
      "metadata": {
        "colab": {
          "base_uri": "https://localhost:8080/"
        },
        "id": "_Dzc26VoymAo",
        "outputId": "3c93223e-5535-45e7-ea67-d8913eaff415"
      },
      "source": [
        "pip install numpy\n"
      ],
      "execution_count": null,
      "outputs": [
        {
          "output_type": "stream",
          "text": [
            "Requirement already satisfied: numpy in /usr/local/lib/python3.7/dist-packages (1.19.5)\n"
          ],
          "name": "stdout"
        }
      ]
    },
    {
      "cell_type": "code",
      "metadata": {
        "colab": {
          "base_uri": "https://localhost:8080/"
        },
        "id": "bMpqR6caDlUE",
        "outputId": "6a49471f-ee10-45e7-93cc-554dfc6637bf"
      },
      "source": [
        "pip install pandas"
      ],
      "execution_count": null,
      "outputs": [
        {
          "output_type": "stream",
          "text": [
            "Requirement already satisfied: pandas in /usr/local/lib/python3.7/dist-packages (1.1.5)\n",
            "Requirement already satisfied: python-dateutil>=2.7.3 in /usr/local/lib/python3.7/dist-packages (from pandas) (2.8.2)\n",
            "Requirement already satisfied: pytz>=2017.2 in /usr/local/lib/python3.7/dist-packages (from pandas) (2018.9)\n",
            "Requirement already satisfied: numpy>=1.15.4 in /usr/local/lib/python3.7/dist-packages (from pandas) (1.19.5)\n",
            "Requirement already satisfied: six>=1.5 in /usr/local/lib/python3.7/dist-packages (from python-dateutil>=2.7.3->pandas) (1.15.0)\n"
          ],
          "name": "stdout"
        }
      ]
    },
    {
      "cell_type": "code",
      "metadata": {
        "colab": {
          "base_uri": "https://localhost:8080/"
        },
        "id": "0B51hLGIB9Do",
        "outputId": "e26b4455-2fcf-4feb-adc4-a618dcf98d54"
      },
      "source": [
        "pip install matplotlib"
      ],
      "execution_count": null,
      "outputs": [
        {
          "output_type": "stream",
          "text": [
            "Requirement already satisfied: matplotlib in /usr/local/lib/python3.7/dist-packages (3.2.2)\n",
            "Requirement already satisfied: python-dateutil>=2.1 in /usr/local/lib/python3.7/dist-packages (from matplotlib) (2.8.2)\n",
            "Requirement already satisfied: kiwisolver>=1.0.1 in /usr/local/lib/python3.7/dist-packages (from matplotlib) (1.3.1)\n",
            "Requirement already satisfied: cycler>=0.10 in /usr/local/lib/python3.7/dist-packages (from matplotlib) (0.10.0)\n",
            "Requirement already satisfied: numpy>=1.11 in /usr/local/lib/python3.7/dist-packages (from matplotlib) (1.19.5)\n",
            "Requirement already satisfied: pyparsing!=2.0.4,!=2.1.2,!=2.1.6,>=2.0.1 in /usr/local/lib/python3.7/dist-packages (from matplotlib) (2.4.7)\n",
            "Requirement already satisfied: six in /usr/local/lib/python3.7/dist-packages (from cycler>=0.10->matplotlib) (1.15.0)\n"
          ],
          "name": "stdout"
        }
      ]
    },
    {
      "cell_type": "code",
      "metadata": {
        "id": "CDO8AMA2tqjC"
      },
      "source": [
        "\n",
        "import numpy as np\n",
        "import matplotlib.pyplot as plt\n",
        "# consider two vectors A and B in 2-D\n",
        "A=np.array([7,3])\n",
        "B=np.array([3,7])"
      ],
      "execution_count": null,
      "outputs": []
    },
    {
      "cell_type": "code",
      "metadata": {
        "colab": {
          "base_uri": "https://localhost:8080/",
          "height": 269
        },
        "id": "GNQNk0oPt8QZ",
        "outputId": "22acd59a-080f-4304-873f-d80c201b6397"
      },
      "source": [
        "ax = plt.axes()\n",
        "ax.arrow(0.0, 0.0, A[0], A[1], head_width=0.4, head_length=0.5)\n",
        "plt.annotate(f\"A({A[0]},{A[1]})\", xy=(A[0], A[1]),xytext=(A[0]+0.5, A[1]))\n",
        "ax.arrow(0.0, 0.0, B[0], B[1], head_width=0.4, head_length=0.5)\n",
        "plt.annotate(f\"B({B[0]},{B[1]})\", xy=(B[0], B[1]),xytext=(B[0]+0.5, B[1]))\n",
        "plt.xlim(0,10)\n",
        "plt.ylim(0,10)\n",
        "plt.show()\n",
        "plt.close()\n",
        "# cosine similarity between A and B\n",
        "\n",
        "cos_sim=np.dot(A,B)/(np.linalg.norm(A)*np.linalg.norm(B))\n"
      ],
      "execution_count": null,
      "outputs": [
        {
          "output_type": "display_data",
          "data": {
            "image/png": "[encoded data removed]",
            "text/plain": [
              "<Figure size 432x288 with 1 Axes>"
            ]
          },
          "metadata": {
            "needs_background": "light"
          }
        }
      ]
    },
    {
      "cell_type": "code",
      "metadata": {
        "colab": {
          "base_uri": "https://localhost:8080/"
        },
        "id": "8SilK_r03sl-",
        "outputId": "45560de0-197c-4fad-f579-d2a9911b5240"
      },
      "source": [
        "print (f\"Cosine Similarity between A and B:{cos_sim}\")\n"
      ],
      "execution_count": null,
      "outputs": [
        {
          "output_type": "stream",
          "text": [
            "Cosine Similarity between A and B:0.7241379310344827\n"
          ],
          "name": "stdout"
        }
      ]
    },
    {
      "cell_type": "code",
      "metadata": {
        "id": "jdKTpojA8vHF"
      },
      "source": [
        "DQ=\"البرمجة بلغة بايثون\"\n",
        "DA=\"تستخدم البرمجة بلغة بايثون في معالجة اللغات الطبيعية\" \n",
        "DB=\"مقدمة في استخدام بايثون\""
      ],
      "execution_count": null,
      "outputs": []
    },
    {
      "cell_type": "code",
      "metadata": {
        "id": "P9fNOqTvuV8_"
      },
      "source": [
        "documents = [DQ,DA,DB]"
      ],
      "execution_count": null,
      "outputs": []
    },
    {
      "cell_type": "code",
      "metadata": {
        "colab": {
          "base_uri": "https://localhost:8080/",
          "height": 142
        },
        "id": "0WWo4ScX9Tpn",
        "outputId": "fbcc1b93-d50a-423d-c484-d9df5f8f8fd4"
      },
      "source": [
        "# Scikit Learn\n",
        "from sklearn.feature_extraction.text import CountVectorizer\n",
        "import pandas as pd\n",
        "\n",
        "# Create the Document Term Matrix\n",
        "\n",
        "count_vectorizer = CountVectorizer()\n",
        "sparse_matrix = count_vectorizer.fit_transform(documents)\n",
        "\n",
        "# OPTIONAL: Convert Sparse Matrix to Pandas Dataframe if you want to see the word frequencies.\n",
        "doc_term_matrix = sparse_matrix.todense()\n",
        "df = pd.DataFrame(doc_term_matrix, \n",
        "                  columns=count_vectorizer.get_feature_names(), \n",
        "                  index=['DQ', 'DA', 'DB'])\n",
        "df\n",
        "\n"
      ],
      "execution_count": null,
      "outputs": [
        {
          "output_type": "execute_result",
          "data": {
            "text/html": [
              "<div>\n",
              "<style scoped>\n",
              "    .dataframe tbody tr th:only-of-type {\n",
              "        vertical-align: middle;\n",
              "    }\n",
              "\n",
              "    .dataframe tbody tr th {\n",
              "        vertical-align: top;\n",
              "    }\n",
              "\n",
              "    .dataframe thead th {\n",
              "        text-align: right;\n",
              "    }\n",
              "</style>\n",
              "<table border=\"1\" class=\"dataframe\">\n",
              "  <thead>\n",
              "    <tr style=\"text-align: right;\">\n",
              "      <th></th>\n",
              "      <th>استخدام</th>\n",
              "      <th>البرمجة</th>\n",
              "      <th>الطبيعية</th>\n",
              "      <th>اللغات</th>\n",
              "      <th>بايثون</th>\n",
              "      <th>بلغة</th>\n",
              "      <th>تستخدم</th>\n",
              "      <th>في</th>\n",
              "      <th>معالجة</th>\n",
              "      <th>مقدمة</th>\n",
              "    </tr>\n",
              "  </thead>\n",
              "  <tbody>\n",
              "    <tr>\n",
              "      <th>DQ</th>\n",
              "      <td>0</td>\n",
              "      <td>1</td>\n",
              "      <td>0</td>\n",
              "      <td>0</td>\n",
              "      <td>1</td>\n",
              "      <td>1</td>\n",
              "      <td>0</td>\n",
              "      <td>0</td>\n",
              "      <td>0</td>\n",
              "      <td>0</td>\n",
              "    </tr>\n",
              "    <tr>\n",
              "      <th>DA</th>\n",
              "      <td>0</td>\n",
              "      <td>1</td>\n",
              "      <td>1</td>\n",
              "      <td>1</td>\n",
              "      <td>1</td>\n",
              "      <td>1</td>\n",
              "      <td>1</td>\n",
              "      <td>1</td>\n",
              "      <td>1</td>\n",
              "      <td>0</td>\n",
              "    </tr>\n",
              "    <tr>\n",
              "      <th>DB</th>\n",
              "      <td>1</td>\n",
              "      <td>0</td>\n",
              "      <td>0</td>\n",
              "      <td>0</td>\n",
              "      <td>1</td>\n",
              "      <td>0</td>\n",
              "      <td>0</td>\n",
              "      <td>1</td>\n",
              "      <td>0</td>\n",
              "      <td>1</td>\n",
              "    </tr>\n",
              "  </tbody>\n",
              "</table>\n",
              "</div>"
            ],
            "text/plain": [
              "    استخدام  البرمجة  الطبيعية  اللغات  بايثون  بلغة  تستخدم  في  معالجة  مقدمة\n",
              "DQ        0        1         0       0       1     1       0   0       0      0\n",
              "DA        0        1         1       1       1     1       1   1       1      0\n",
              "DB        1        0         0       0       1     0       0   1       0      1"
            ]
          },
          "metadata": {},
          "execution_count": 9
        }
      ]
    },
    {
      "cell_type": "code",
      "metadata": {
        "colab": {
          "base_uri": "https://localhost:8080/"
        },
        "id": "mO3ReceT9k_R",
        "outputId": "ffbfcf46-05ed-4e9c-d017-fe28fcc12c92"
      },
      "source": [
        "# Compute Cosine Similarity\n",
        "import pprint\n",
        "from sklearn.metrics.pairwise import cosine_similarity\n",
        "pprint.pprint(cosine_similarity(sparse_matrix))"
      ],
      "execution_count": null,
      "outputs": [
        {
          "output_type": "stream",
          "text": [
            "array([[1.        , 0.61237244, 0.28867513],\n",
            "       [0.61237244, 1.        , 0.35355339],\n",
            "       [0.28867513, 0.35355339, 1.        ]])\n"
          ],
          "name": "stdout"
        }
      ]
    },
    {
      "cell_type": "markdown",
      "metadata": {
        "id": "eKs3-TwqlS3k"
      },
      "source": [
        "**inverted-index**"
      ]
    },
    {
      "cell_type": "code",
      "metadata": {
        "id": "iKrd3kJFt-Tp"
      },
      "source": [
        "import nltk"
      ],
      "execution_count": null,
      "outputs": []
    },
    {
      "cell_type": "code",
      "metadata": {
        "colab": {
          "base_uri": "https://localhost:8080/"
        },
        "id": "fMe9ncvYuCQU",
        "outputId": "610d7f0b-81e2-485c-93cc-6612c9d7d018"
      },
      "source": [
        "%%writefile Data.txt\n",
        "We propose a matching algorithm \n",
        "the data for the retrieval process\n",
        "Java programming language"
      ],
      "execution_count": null,
      "outputs": [
        {
          "output_type": "stream",
          "text": [
            "Writing Data.txt\n"
          ],
          "name": "stdout"
        }
      ]
    },
    {
      "cell_type": "code",
      "metadata": {
        "colab": {
          "base_uri": "https://localhost:8080/"
        },
        "id": "s2BoYDmSuKJf",
        "outputId": "75635353-061c-4221-f7d7-c2077102b18a"
      },
      "source": [
        "file = open('/content/Data.txt', encoding='utf8')\n",
        "read = file.read()\n",
        "file.seek(0)\n",
        "read\n",
        "line = 1\n",
        "for word in read:\n",
        "    if word == '\\n':\n",
        "        line += 1\n",
        "print(\"Number of lines in file is: \", line)\n",
        "array = []\n",
        "for i in range(line):\n",
        "    array.append(file.readline())\n",
        "  \n",
        "array"
      ],
      "execution_count": null,
      "outputs": [
        {
          "output_type": "stream",
          "text": [
            "Number of lines in file is:  3\n"
          ],
          "name": "stdout"
        },
        {
          "output_type": "execute_result",
          "data": {
            "text/plain": [
              "['We propose a matching algorithm \\n',\n",
              " 'the data for the retrieval process\\n',\n",
              " 'Java programming language']"
            ]
          },
          "metadata": {},
          "execution_count": 17
        }
      ]
    },
    {
      "cell_type": "code",
      "metadata": {
        "id": "W9QPA9YTjVrc"
      },
      "source": [
        "from nltk.tokenize import word_tokenize"
      ],
      "execution_count": null,
      "outputs": []
    },
    {
      "cell_type": "code",
      "metadata": {
        "id": "cu98QlyxvEAK",
        "colab": {
          "base_uri": "https://localhost:8080/"
        },
        "outputId": "bf9fff67-d92b-4aa4-a660-7b1e96edce67"
      },
      "source": [
        "import nltk\n",
        "nltk.download('punkt')\n",
        "for i in range(1):\n",
        "    # this will convert\n",
        "    # the word into tokens\n",
        "    text_tokens = word_tokenize(read)"
      ],
      "execution_count": null,
      "outputs": [
        {
          "output_type": "stream",
          "text": [
            "[nltk_data] Downloading package punkt to /root/nltk_data...\n",
            "[nltk_data]   Unzipping tokenizers/punkt.zip.\n"
          ],
          "name": "stdout"
        }
      ]
    },
    {
      "cell_type": "code",
      "metadata": {
        "colab": {
          "base_uri": "https://localhost:8080/"
        },
        "id": "rwqaXKT33-Hd",
        "outputId": "44789d90-9967-4ada-fed3-2cafd1c4ca56"
      },
      "source": [
        "from nltk.corpus import stopwords\n",
        "nltk.download('stopwords')\n",
        "tokens_without_sw = [\n",
        "    word for word in text_tokens if not word in stopwords.words()]\n",
        "print(tokens_without_sw)"
      ],
      "execution_count": null,
      "outputs": [
        {
          "output_type": "stream",
          "text": [
            "[nltk_data] Downloading package stopwords to /root/nltk_data...\n",
            "[nltk_data]   Unzipping corpora/stopwords.zip.\n",
            "['We', 'propose', 'matching', 'algorithm', 'data', 'retrieval', 'process', 'Java', 'programming', 'language']\n"
          ],
          "name": "stdout"
        }
      ]
    },
    {
      "cell_type": "code",
      "metadata": {
        "colab": {
          "base_uri": "https://localhost:8080/"
        },
        "id": "8axWmAyvvT3a",
        "outputId": "ec0267ea-fe40-44f0-8f67-17694ec917ab"
      },
      "source": [
        "dict = {}\n",
        "  \n",
        "for i in range(line):\n",
        "    check = array[i].lower()\n",
        "    for item in tokens_without_sw:\n",
        "  \n",
        "        if item in check:\n",
        "            if item not in dict:\n",
        "                dict[item] = []\n",
        "  \n",
        "            if item in dict:\n",
        "                dict[item].append(i+1)\n",
        "  \n",
        "dict"
      ],
      "execution_count": null,
      "outputs": [
        {
          "output_type": "execute_result",
          "data": {
            "text/plain": [
              "{'algorithm': [1],\n",
              " 'data': [2],\n",
              " 'language': [3],\n",
              " 'matching': [1],\n",
              " 'process': [2],\n",
              " 'programming': [3],\n",
              " 'propose': [1],\n",
              " 'retrieval': [2]}"
            ]
          },
          "metadata": {},
          "execution_count": 22
        }
      ]
    }
  ]
}